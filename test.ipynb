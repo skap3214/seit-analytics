{
 "cells": [
  {
   "cell_type": "code",
   "execution_count": 1,
   "metadata": {},
   "outputs": [],
   "source": [
    "from fetch import fetch_links_from_past_hours, extract_from_links, summarize_link, summarize_topic"
   ]
  },
  {
   "cell_type": "code",
   "execution_count": 2,
   "metadata": {},
   "outputs": [
    {
     "data": {
      "text/plain": [
       "dict_keys(['security', 'iot', 'blockchain', 'ai'])"
      ]
     },
     "execution_count": 2,
     "metadata": {},
     "output_type": "execute_result"
    }
   ],
   "source": [
    "links = fetch_links_from_past_hours()\n",
    "docs = extract_from_links(links)\n",
    "docs.keys()"
   ]
  },
  {
   "cell_type": "code",
   "execution_count": 9,
   "metadata": {},
   "outputs": [
    {
     "data": {
      "text/plain": [
       "1"
      ]
     },
     "execution_count": 9,
     "metadata": {},
     "output_type": "execute_result"
    }
   ],
   "source": [
    "topic_docs = docs['iot']\n",
    "len(topic_docs)"
   ]
  },
  {
   "cell_type": "code",
   "execution_count": 5,
   "metadata": {},
   "outputs": [],
   "source": [
    "summaries = []\n",
    "for doc in topic_docs:\n",
    "    summary = summarize_link([doc])\n",
    "    summaries.append(summary) "
   ]
  },
  {
   "cell_type": "code",
   "execution_count": 5,
   "metadata": {},
   "outputs": [
    {
     "name": "stdout",
     "output_type": "stream",
     "text": [
      "\n",
      "\n",
      "\u001b[1m> Entering new MapReduceDocumentsChain chain...\u001b[0m\n",
      "\n",
      "\n",
      "\u001b[1m> Entering new LLMChain chain...\u001b[0m\n",
      "Prompt after formatting:\n",
      "\u001b[32;1m\u001b[1;3mHere are a list of article summaries: In Uruguay, a severe water shortage has led to a state of emergency in Montevideo, with salty water being added to the public drinking supply. Anger has been sparked by Google's plan to build a data center that would use millions of liters of water a day, with critics accusing the government of prioritizing water for corporations over its citizens. The country's president has announced emergency measures, but public anger remains high as the water crisis continues.[62e0ff4]\n",
      "Identify the main themes from the summaries and cite your answer using [alphanumeric source] notation. Place these citations at the end of the sentence or paragraph that reference them - do NOT put them all at the end. Capture the main themes in the summary. Helpful Answer:\u001b[0m\n",
      "Prompt after formatting:\n",
      "\u001b[32;1m\u001b[1;3mHere are a list of article summaries: There is no information provided to create a concise summary.[e7ccfab]\n",
      "Identify the main themes from the summaries and cite your answer using [alphanumeric source] notation. Place these citations at the end of the sentence or paragraph that reference them - do NOT put them all at the end. Capture the main themes in the summary. Helpful Answer:\u001b[0m\n",
      "Prompt after formatting:\n",
      "\u001b[32;1m\u001b[1;3mHere are a list of article summaries: The European Data Protection Supervisor found that the European Commission breached data protection rules by using Microsoft 365 without specifying types of personal data collected and for what purpose. Corrective measures were imposed, including suspending data flows to non-EU countries without safeguards and ensuring data processing is limited to specified purposes. The Commission must also improve contracts with Microsoft to comply with data protection rules. The Commission responded by stating its commitment to compliance with data protection rules and will analyze the decision before taking further action.[4057ba6]\n",
      "Identify the main themes from the summaries and cite your answer using [alphanumeric source] notation. Place these citations at the end of the sentence or paragraph that reference them - do NOT put them all at the end. Capture the main themes in the summary. Helpful Answer:\u001b[0m\n",
      "Prompt after formatting:\n",
      "\u001b[32;1m\u001b[1;3mHere are a list of article summaries: The Caixin App offers a variety of sections including finance, business, tech, and editorial content. It covers topics such as the Evergrande Crisis, ESG goals, China-U.S. rivalry, and more. The app provides daily newsletters, research and analysis, and a weekly sneak peek. Recent news includes Chinese crane manufacturer Zhenhua denying security threats posed by its cranes in U.S. ports. The app also offers subscription options and access to events, podcasts, and market data.[2a2ebdd]\n",
      "Identify the main themes from the summaries and cite your answer using [alphanumeric source] notation. Place these citations at the end of the sentence or paragraph that reference them - do NOT put them all at the end. Capture the main themes in the summary. Helpful Answer:\u001b[0m\n",
      "Prompt after formatting:\n",
      "\u001b[32;1m\u001b[1;3mHere are a list of article summaries: \"Prompt to enter login credentials to access an account or service.\"[8698fc1]\n",
      "Identify the main themes from the summaries and cite your answer using [alphanumeric source] notation. Place these citations at the end of the sentence or paragraph that reference them - do NOT put them all at the end. Capture the main themes in the summary. Helpful Answer:\u001b[0m\n",
      "Prompt after formatting:\n",
      "\u001b[32;1m\u001b[1;3mHere are a list of article summaries: The article discusses a bipartisan bill that aims to ban TikTok from operating in the United States unless it severs ties with its Chinese owner. The article argues that while there are valid concerns about TikTok's surveillance and privacy issues, the focus on banning TikTok overlooks the larger problems of data privacy and regulation of data brokers. The article criticizes the bill for being performative and driven by anti-competitive motives rather than a genuine concern for national security or consumer privacy. It calls for comprehensive privacy laws and regulation of data brokers to address the root of the problem.[7195038]\n",
      "Identify the main themes from the summaries and cite your answer using [alphanumeric source] notation. Place these citations at the end of the sentence or paragraph that reference them - do NOT put them all at the end. Capture the main themes in the summary. Helpful Answer:\u001b[0m\n",
      "Prompt after formatting:\n",
      "\u001b[32;1m\u001b[1;3mHere are a list of article summaries: The European Data Protection Supervisor (EDPS) found that the European Commission infringed data protection rules when using Microsoft 365, including inadequate safeguards for personal data transfers and lack of specificity in data collection. Corrective measures were imposed on the Commission to ensure compliance with EU data protection laws. The EDPS emphasized the importance of robust data protection measures for EU institutions and bodies when processing personal data. The corrective measures imposed are considered appropriate and necessary in light of the seriousness of the infringements. The investigation was opened in May 2021 following the Schrems II judgment and is part of the EDPS' actions in the context of the 2022 Coordinated Enforcement Action of the European Data Protection Board.[c77e8a2]\n",
      "Identify the main themes from the summaries and cite your answer using [alphanumeric source] notation. Place these citations at the end of the sentence or paragraph that reference them - do NOT put them all at the end. Capture the main themes in the summary. Helpful Answer:\u001b[0m\n",
      "\n",
      "\u001b[1m> Finished chain.\u001b[0m\n",
      "\n",
      "\n",
      "\u001b[1m> Entering new LLMChain chain...\u001b[0m\n",
      "Prompt after formatting:\n",
      "\u001b[32;1m\u001b[1;3mThe following is set of summaries:\n",
      "Water shortage crisis in Uruguay, government prioritizing corporations over citizens, public anger and protests [62e0ff4].\n",
      "\n",
      "The main themes from the article summaries include the impact of technology on society, the challenges of mental health, the importance of education, and the role of government in addressing social issues [a]. Additionally, the articles discuss the need for environmental conservation and sustainable practices to protect the planet for future generations [b]. The summaries also highlight the significance of diversity and inclusion in promoting equality and social justice [c]. Overall, the articles address a range of pressing issues facing society today and emphasize the importance of taking action to create positive change.\n",
      "\n",
      "[a] - Technology, society, mental health, education, government\n",
      "[b] - Environmental conservation, sustainability\n",
      "[c] - Diversity, inclusion, equality, social justice\n",
      "\n",
      "The main themes in the article summaries are the breach of data protection rules by the European Commission in using Microsoft 365, the corrective measures imposed by the European Data Protection Supervisor, including suspending data flows to non-EU countries and ensuring data processing is limited to specified purposes, and the Commission's response to the findings, stating its commitment to compliance and willingness to analyze the decision before taking further action [4057ba6].\n",
      "\n",
      "The main themes from the article summaries include coverage of current events in finance, business, and tech, such as the Evergrande Crisis and China-U.S. rivalry, as well as discussions on ESG goals. The Caixin App provides daily newsletters, research and analysis on these topics, and offers subscription options for access to events, podcasts, and market data [2a2ebdd]. Additionally, the app includes editorial content and a variety of sections to cater to different interests, such as business and finance news [2a2ebdd]. The app also reports on companies like Chinese crane manufacturer Zhenhua and their denial of security threats posed by their cranes in U.S. ports [2a2ebdd].\n",
      "\n",
      "1. The main theme of the article summaries is the concept of accessing accounts or services through login credentials. This theme is evident in the prompt for entering login credentials to access an account or service [8698fc1]. \n",
      "\n",
      "2. Another prominent theme is the importance of security when it comes to accessing accounts or services. This is highlighted by the requirement to enter login credentials in order to access these accounts or services [8698fc1]. \n",
      "\n",
      "3. Additionally, the summaries suggest that login credentials are a common method of authentication for accessing accounts or services. This is evident in the repeated mention of entering login credentials as a means of gaining access [8698fc1].\n",
      "\n",
      "- Concerns about TikTok's surveillance and privacy issues [7195038]\n",
      "- Criticism of the bipartisan bill for being performative and driven by anti-competitive motives [7195038]\n",
      "- Call for comprehensive privacy laws and regulation of data brokers to address the root of the problem [7195038]\n",
      "\n",
      "1. The European Commission infringed data protection rules when using Microsoft 365, leading to corrective measures being imposed on the Commission to ensure compliance with EU data protection laws [a].\n",
      "2. The importance of robust data protection measures for EU institutions and bodies when processing personal data was emphasized by the European Data Protection Supervisor (EDPS) [b].\n",
      "3. The corrective measures imposed were deemed appropriate and necessary in light of the seriousness of the infringements found during the investigation [a].\n",
      "4. The investigation by the EDPS, opened in May 2021 following the Schrems II judgment, is part of the 2022 Coordinated Enforcement Action of the European Data Protection Board [a]. \n",
      "\n",
      "[a] European Data Protection Supervisor (EDPS)\n",
      "[b] Importance of data protection measures for EU institutions and bodies\n",
      "Take these and distill it into a final, consolidated summary of the main themes and cite your answer using [alphanumeric source] notation. Keep your summary concise and capture the main themes. Helpful Answer:\u001b[0m\n",
      "\n",
      "\u001b[1m> Finished chain.\u001b[0m\n",
      "\n",
      "\u001b[1m> Finished chain.\u001b[0m\n"
     ]
    }
   ],
   "source": [
    "summary = summarize_topic(summaries)"
   ]
  },
  {
   "cell_type": "code",
   "execution_count": 6,
   "metadata": {},
   "outputs": [
    {
     "data": {
      "text/plain": [
       "'The main themes from the article summaries include breaches of data protection rules by the European Commission, corrective measures imposed by the European Data Protection Supervisor, the importance of robust data protection measures for EU institutions, and the need for comprehensive privacy laws and regulation of data brokers to address privacy concerns [4057ba6] [a] [b].'"
      ]
     },
     "execution_count": 6,
     "metadata": {},
     "output_type": "execute_result"
    }
   ],
   "source": [
    "summary"
   ]
  },
  {
   "cell_type": "code",
   "execution_count": 8,
   "metadata": {},
   "outputs": [
    {
     "data": {
      "text/plain": [
       "Document(page_content=\"People take part in a protest amid a shortage of drinking water reserves in Montevideo on 31 May 2023.  Photograph: Eitan Abramovich/AFP/Getty Images\\n\\nView image in fullscreen\\n\\nPeople take part in a protest amid a shortage of drinking water reserves in Montevideo on 31 May 2023.  Photograph: Eitan Abramovich/AFP/Getty Images\\n\\nUruguay\\n\\n‘It’s pillage’: thirsty Uruguayans decry Google’s plan to exploit water supply\\n\\nThis article is more than 7 months old\\n\\nCountry suffering its worst drought in 74 years, with government even mixing saltwater into drinking supply\\n\\nGrace Livingstone\\n\\nin Montevideo\\n\\nTue 11 Jul 2023 06.15 EDT\\n\\nShare\\n\\nA plan to build a Google data centre that will use millions of litres of water a day has sparked anger in Uruguay, which is suffering its worst drought in 74 years.\\n\\nWater shortages are so severe in the country that a state of emergency has been declared in Montevideo and the authorities have added salty water to the public drinking water supplies, prompting widespread protests.\\n\\nBrazil says illegal miners driven from Indigenous territory, but ‘war’ not overRead more\\n\\nCritics claim that the government is prioritising water for transnationals and agribusiness at the expense of its own citizens. Daniel Pena, a researcher at the University of the Republic in Montevideo, said: “Only a tiny proportion of water in Uruguay is used for human consumption. The majority is used for big agro industries, such as soya, rice and wood pulping. Now we have Google planning to use enormous quantities of water.”\\n\\nThe search giant has bought 29 hectares (72 acres) of land to build a datacentre in Canelones department, in southern Uruguay. The centre would use 7.6m litres (2m gallons) of water a day to cool its servers – equivalent to the domestic daily use of 55,000 people, according to figures from the Ministry of Environment obtained by Pena through legal action. The water would come directly from the public drinking water system, according to Pena.\\n\\nUruguay’s industry ministry says these figures are out of date because the company is revising its plans, and the datacentre will be “a smaller size”.\\n\\nIn a statement, Google said the hub would serve Google users worldwide, processing requests for services such as YouTube, Gmail and Google Search. “The Uruguay data center project is still in the exploratory phase, and Google’s technical team is actively working with the support of national and local authorities. We expect preliminary numbers (like projected water consumption) to undergo adjustments. At Google, sustainability is at the core of everything we do, and the way we design and manage our data centers is no exception,” it said.\\n\\nExtremely low rainfall levels and record high temperatures have left Uruguay’s main reservoir dry and rivers depleted, and to make up the supply, public water authorities have started taking water from the Rio de la Plata estuary, where seawater mixes with freshwater, giving tap water a salty taste.\\n\\nView image in fullscreen\\n\\nThe Paso Severino dam in Florida, Uruguay, on 4 July 2023. The South American country is now suffering its most severe drought in 74 years. Photograph: Matilde Campodonico/AP\\n\\nThe foul-tasting tap water has caused shock waves in a country which has the highest GDP per capita in South America and was the first country in the world to declare access to water a constitutional right.\\n\\nThe government has doubled the permitted levels of sodium chloride in tap water and is advising pregnant women and people with serious health conditions not to drink it. Parents have been advised to prepare baby milk with bottled water and not to add salt to children’s food.\\n\\nUruguay’s president, Luis Lacalle Pou, has announced emergency measures such as lifting taxes on bottled water and distributing two litres (a half gallon) of free water a day to 21,000 poor or vulnerable families. He has also promised to build a new reservoir in 30 days.\\n\\nskip past newsletter promotion\\n\\nSign up to Down to Earth\\n\\nFree weekly newsletter\\n\\nThe planet's most important stories. Get all the week's environment news - the good, the bad and the essential\\n\\nEnter your email address\\n\\nPrivacy Notice: Newsletters may contain info about charities, online ads, and content funded by outside parties. For more information see our Privacy Policy. We use Google reCaptcha to protect our website and the Google Privacy Policy and Terms of Service apply.\\n\\nafter newsletter promotion\\n\\nBut public anger remains widespread. “Tap water is virtually undrinkable. But there are approximately 500,000 people who can’t afford to buy bottled water,” said Carmen Sosa of the trade union-backed Commission to Defend Water and Life. Its slogan, “This is not drought, it’s pillage,” is scrawled on walls across Montevideo.\\n\\n“More than 80% of water goes to industry, like soya and wood pulping. Yes, we have had a shortage of rain, but the drought has simply shown the problems with our economic model. We can’t concentrate resources in a few hands,” said Sosa. “Water for human consumption has to come before profit.”\\n\\nLast month, the world’s biggest pulping plant started operations in Uruguay, the third such mill in the country. The new plant, run by the Finnish company UPM to create raw material for paper, is forecast to use 129.6m litres (34m gallons) of water a day, and releases effluent into a local river. UPM said it treats the effluent before release, and constantly monitors the water quality in the Río Negro.\\n\\nA UPM spokesperson told the Guardian: “Uruguay is facing the worst drought in a century. Within this framework, UPM’s operations in Uruguay have no connection with the drought that is occurring. The drinking water consumed in Montevideo comes from the Santa Lucía River. None of the pulp mills installed in Uruguay are linked to this river. This challenging climatic situation cannot be associated in any way with the forestry sector.”\\n\\nExplore more on these topics\\n\\nUruguay\\n\\nDrought\\n\\nGoogle\\n\\nAmericas\\n\\nWater\\n\\nAlphabet\\n\\nnews\\n\\nShare\\n\\nReuse this content\\n\\nMost viewed\\n\\nMost viewed\", metadata={'source': '62e0ff4', 'link': 'https://www.theguardian.com/world/2023/jul/11/uruguay-drought-water-google-data-center'})"
      ]
     },
     "execution_count": 8,
     "metadata": {},
     "output_type": "execute_result"
    }
   ],
   "source": [
    "topic_docs[0]"
   ]
  },
  {
   "cell_type": "code",
   "execution_count": null,
   "metadata": {},
   "outputs": [],
   "source": []
  }
 ],
 "metadata": {
  "kernelspec": {
   "display_name": "seit-analytics",
   "language": "python",
   "name": "python3"
  },
  "language_info": {
   "codemirror_mode": {
    "name": "ipython",
    "version": 3
   },
   "file_extension": ".py",
   "mimetype": "text/x-python",
   "name": "python",
   "nbconvert_exporter": "python",
   "pygments_lexer": "ipython3",
   "version": "3.10.13"
  }
 },
 "nbformat": 4,
 "nbformat_minor": 2
}
